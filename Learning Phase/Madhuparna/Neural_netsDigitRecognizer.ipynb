{
 "cells": [
  {
   "cell_type": "code",
   "execution_count": 1,
   "metadata": {
    "colab": {},
    "colab_type": "code",
    "id": "etHxKa6F3tS4"
   },
   "outputs": [],
   "source": [
    "#Neural net with two hidden layer\n",
    "import numpy as np\n",
    "import pandas as pd\n",
    "from sklearn import preprocessing\n",
    "from sklearn.model_selection import train_test_split"
   ]
  },
  {
   "cell_type": "code",
   "execution_count": 2,
   "metadata": {
    "colab": {},
    "colab_type": "code",
    "id": "KvBJXnR1_zk8"
   },
   "outputs": [],
   "source": [
    "#sigmoid\n",
    "def sigmoid(x):\n",
    "  return (1/(1+np.exp(-x)))"
   ]
  },
  {
   "cell_type": "code",
   "execution_count": 3,
   "metadata": {
    "colab": {},
    "colab_type": "code",
    "id": "FeVH1Twe831F"
   },
   "outputs": [],
   "source": [
    "def cost(output,y):\n",
    "  x=np.sum((-1*y)*np.log(output)-(1-y)*(np.log(1-output)))\n",
    "  #print(x)\n",
    "  return x"
   ]
  },
  {
   "cell_type": "code",
   "execution_count": 7,
   "metadata": {
    "colab": {},
    "colab_type": "code",
    "id": "BqaXIxFF3yxV"
   },
   "outputs": [],
   "source": [
    "def prop(x,y,theta3,theta2,theta1,alpha):\n",
    "  \n",
    "  #Forward prop\n",
    "  al1=np.dot(theta1.T,x)\n",
    "  al1=sigmoid(al1)\n",
    "  al2=np.dot(theta2.T,al1)\n",
    "  al2=sigmoid(al2)\n",
    "  output=np.dot(theta3.T,al2)\n",
    "  output=sigmoid(output)\n",
    "  ct=cost(output,y)\n",
    "  #print(output)\n",
    "\n",
    "  #Backward prop\n",
    "  delout=output-y\n",
    "  del3=np.multiply((theta3)@delout,np.multiply(al2,(1-al2)))\n",
    "  del2=np.multiply((theta2)@del3,np.multiply(al1,(1-al1)))\n",
    "  \n",
    "  theta3_grad=al2@delout.T\n",
    "  theta2_grad=al1@del3.T\n",
    "  theta1_grad=x@del2.T\n",
    " \n",
    "  \n",
    "  #update\n",
    "  theta3=theta3-alpha*theta3_grad\n",
    "  theta2=theta2-alpha*theta2_grad\n",
    "  theta1=theta1-alpha*theta1_grad\n",
    "\n",
    "  #print(theta3.shape)\n",
    "  return [theta1,theta2,theta3,ct,output]\n",
    "  "
   ]
  },
  {
   "cell_type": "code",
   "execution_count": 8,
   "metadata": {
    "colab": {
     "base_uri": "https://localhost:8080/",
     "height": 247
    },
    "colab_type": "code",
    "id": "EXSKqUpB3y7-",
    "outputId": "b65d106f-1784-4060-e1b7-722e245f7318"
   },
   "outputs": [
    {
     "name": "stdout",
     "output_type": "stream",
     "text": [
      "cost : 1.230291132010942\n",
      "cost : 0.6605755489157913\n",
      "cost : 0.39939429767474494\n",
      "cost : 0.2702000234058309\n",
      "cost : 0.19846447402420822\n",
      "cost : 0.1544637391153088\n",
      "cost : 0.1253142889453628\n",
      "cost : 0.10483319396342061\n",
      "cost : 0.08977231660185085\n",
      "cost : 0.0782923219598253\n",
      "Output is : [[0.0670148]]\n",
      "Cost is : 0.06936594120538261\n"
     ]
    }
   ],
   "source": [
    "#checking\n",
    "x=np.array([[100],[10]])\n",
    "y=np.array([[0]])\n",
    "theta1=np.random.rand(2,4)\n",
    "theta2=np.random.rand(4,2)\n",
    "theta3=np.random.rand(2,1)\n",
    "\n",
    "#print(theta3.shape)\n",
    "alpha=0.01\n",
    "c=0\n",
    "for i in range(1000):\n",
    "  theta1,theta2,theta3,cos,out=prop(x,y,theta3,theta2,theta1,alpha)\n",
    "  if i%100==0:\n",
    "    print(\"cost :\",cos)\n",
    "  c=cos\n",
    "  \n",
    "print(\"Output is :\",out)\n",
    "print(\"Cost is :\",c)"
   ]
  },
  {
   "cell_type": "code",
   "execution_count": 9,
   "metadata": {
    "colab": {},
    "colab_type": "code",
    "id": "jnwOb1OP3zCb"
   },
   "outputs": [],
   "source": [
    "train=pd.read_csv(\"train.csv\")"
   ]
  },
  {
   "cell_type": "code",
   "execution_count": 10,
   "metadata": {
    "colab": {
     "base_uri": "https://localhost:8080/",
     "height": 123
    },
    "colab_type": "code",
    "id": "iVfLUv4C3y7M",
    "outputId": "def3bbd5-c3f7-4126-fdc7-399a8b57626e"
   },
   "outputs": [
    {
     "name": "stdout",
     "output_type": "stream",
     "text": [
      "   label  pixel0  pixel1  pixel2  pixel3  pixel4  pixel5  pixel6  pixel7  \\\n",
      "0      1       0       0       0       0       0       0       0       0   \n",
      "1      0       0       0       0       0       0       0       0       0   \n",
      "2      1       0       0       0       0       0       0       0       0   \n",
      "3      4       0       0       0       0       0       0       0       0   \n",
      "4      0       0       0       0       0       0       0       0       0   \n",
      "\n",
      "   pixel8    ...     pixel774  pixel775  pixel776  pixel777  pixel778  \\\n",
      "0       0    ...            0         0         0         0         0   \n",
      "1       0    ...            0         0         0         0         0   \n",
      "2       0    ...            0         0         0         0         0   \n",
      "3       0    ...            0         0         0         0         0   \n",
      "4       0    ...            0         0         0         0         0   \n",
      "\n",
      "   pixel779  pixel780  pixel781  pixel782  pixel783  \n",
      "0         0         0         0         0         0  \n",
      "1         0         0         0         0         0  \n",
      "2         0         0         0         0         0  \n",
      "3         0         0         0         0         0  \n",
      "4         0         0         0         0         0  \n",
      "\n",
      "[5 rows x 785 columns]\n",
      "[[0. 1. 0. ... 0. 0. 0.]\n",
      " [1. 0. 0. ... 0. 0. 0.]\n",
      " [0. 1. 0. ... 0. 0. 0.]\n",
      " ...\n",
      " [0. 0. 0. ... 1. 0. 0.]\n",
      " [0. 0. 0. ... 0. 0. 0.]\n",
      " [0. 0. 0. ... 0. 0. 1.]]\n"
     ]
    }
   ],
   "source": [
    "print(train.head())\n",
    "y=train.iloc[:,:1]\n",
    "X=train.iloc[:,1:]\n",
    "y=y.values\n",
    "Y=np.zeros((len(y),10))\n",
    "for i in range(len(y)):\n",
    "    Y.itemset((i,np.int(y[i])),1)\n",
    "print(Y)\n",
    "     \n"
   ]
  },
  {
   "cell_type": "code",
   "execution_count": 11,
   "metadata": {
    "colab": {},
    "colab_type": "code",
    "id": "-pw57M-7WiKg"
   },
   "outputs": [],
   "source": [
    "#spliting data\n",
    "x_train, x_test, y_train, y_test = train_test_split(X,Y, random_state=0)\n",
    "#Feature scaling\n",
    "x_train = preprocessing.scale(x_train)\n",
    "x_test=preprocessing.scale(x_test)\n",
    "\n"
   ]
  },
  {
   "cell_type": "code",
   "execution_count": 12,
   "metadata": {},
   "outputs": [
    {
     "name": "stdout",
     "output_type": "stream",
     "text": [
      "(31500, 784)\n",
      "(10500, 784)\n"
     ]
    }
   ],
   "source": [
    "print(x_train.shape)\n",
    "print(x_test.shape)"
   ]
  },
  {
   "cell_type": "code",
   "execution_count": 13,
   "metadata": {
    "colab": {},
    "colab_type": "code",
    "id": "sTtqPo7uYkWD"
   },
   "outputs": [],
   "source": [
    "#Initialising theta\n",
    "theta1=np.random.rand(784,256)\n",
    "theta2=np.random.rand(256,30)\n",
    "theta3=np.random.rand(30,10)\n",
    "\n"
   ]
  },
  {
   "cell_type": "code",
   "execution_count": 14,
   "metadata": {
    "colab": {
     "base_uri": "https://localhost:8080/",
     "height": 390
    },
    "colab_type": "code",
    "id": "vfFpX2HMYNkU",
    "outputId": "293fd4ae-b766-47c0-c728-8d2ce55a3170"
   },
   "outputs": [
    {
     "name": "stdout",
     "output_type": "stream",
     "text": [
      "Cost : 2.8074834403629736\n",
      "Cost : 2.188838873418671\n",
      "Cost : 1.6841831641858902\n",
      "Cost : 1.4512980182839221\n",
      "Cost : 1.1225626761298737\n",
      "Cost : 0.9176633345179372\n",
      "Cost : 0.819944487638099\n",
      "Cost : 0.7230453607016345\n",
      "Cost : 0.6733070867431064\n",
      "Cost : 0.649986832845838\n",
      "Cost : 0.5716700181706117\n",
      "Cost : 0.5180611344990699\n",
      "Cost : 0.4924502063938649\n",
      "Cost : 0.4812207414710102\n",
      "Cost : 0.4397530298712633\n",
      "Cost : 0.41481910870878874\n",
      "Cost : 0.403615829260952\n",
      "Cost : 0.38671836629098594\n",
      "Cost : 0.39611576219763206\n",
      "Cost : 0.3656099685970741\n",
      "Final cost : 0.3656099685970741\n"
     ]
    }
   ],
   "source": [
    "\n",
    "alpha=0.08;\n",
    "\n",
    "for j in range(20):\n",
    "  ct=0\n",
    "  for i in range(x_train.shape[0]):\n",
    "    theta1,theta2,theta3,cos,val=prop(x_train[i].reshape((784,1)),y_train[i].reshape(10,1),theta3,theta2,theta1,alpha)\n",
    "    ct+=cos\n",
    "  if j%1==0:\n",
    "    print(\"Cost :\" ,ct/X.shape[0])\n",
    "  \n",
    "\n",
    "print(\"Final cost :\",ct/X.shape[0])\n"
   ]
  },
  {
   "cell_type": "code",
   "execution_count": 15,
   "metadata": {
    "colab": {
     "base_uri": "https://localhost:8080/",
     "height": 34
    },
    "colab_type": "code",
    "id": "rsUBgyafYTFV",
    "outputId": "93839664-8e9a-4895-b998-521c44c4c260"
   },
   "outputs": [
    {
     "name": "stdout",
     "output_type": "stream",
     "text": [
      "Accuracy:  0.8831428571428571\n"
     ]
    }
   ],
   "source": [
    "#Testing on test set\n",
    "ct=0\n",
    "ans=[]\n",
    "for i in range(x_test.shape[0]):\n",
    "      al1=np.dot(theta1.T,x_test[i].reshape((784,1)))\n",
    "      al1=sigmoid(al1)\n",
    "      al2=np.dot(theta2.T,al1)\n",
    "      al2=sigmoid(al2)\n",
    "      output=np.dot(theta3.T,al2)\n",
    "      output=sigmoid(output)\n",
    "      #print(np.round(output).argmax())\n",
    "      ans.append(np.int(np.round(output).argmax()))\n",
    "      #print(output)\n",
    "score=0\n",
    "for i in range(y_test.shape[0]):\n",
    "  if y_test[i][ans[i]]==1:\n",
    "    score=score+1\n",
    "print(\"Accuracy: \",score/y_test.shape[0])\n",
    "   \n",
    " \n",
    "  \n",
    "  \n",
    "  "
   ]
  },
  {
   "cell_type": "code",
   "execution_count": null,
   "metadata": {
    "colab": {},
    "colab_type": "code",
    "id": "2NEf3Vv4m2Vh"
   },
   "outputs": [],
   "source": []
  },
  {
   "cell_type": "code",
   "execution_count": null,
   "metadata": {},
   "outputs": [],
   "source": []
  },
  {
   "cell_type": "code",
   "execution_count": null,
   "metadata": {},
   "outputs": [],
   "source": []
  }
 ],
 "metadata": {
  "colab": {
   "collapsed_sections": [],
   "name": "Neural nets",
   "provenance": [],
   "version": "0.3.2"
  },
  "kernelspec": {
   "display_name": "Python 3",
   "language": "python",
   "name": "python3"
  },
  "language_info": {
   "codemirror_mode": {
    "name": "ipython",
    "version": 3
   },
   "file_extension": ".py",
   "mimetype": "text/x-python",
   "name": "python",
   "nbconvert_exporter": "python",
   "pygments_lexer": "ipython3",
   "version": "3.7.0"
  }
 },
 "nbformat": 4,
 "nbformat_minor": 1
}
